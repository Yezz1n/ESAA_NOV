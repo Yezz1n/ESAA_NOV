{
  "nbformat": 4,
  "nbformat_minor": 0,
  "metadata": {
    "colab": {
      "provenance": [],
      "authorship_tag": "ABX9TyP7N5h2MOFovXEqF9iHloLe",
      "include_colab_link": true
    },
    "kernelspec": {
      "name": "python3",
      "display_name": "Python 3"
    },
    "language_info": {
      "name": "python"
    }
  },
  "cells": [
    {
      "cell_type": "markdown",
      "metadata": {
        "id": "view-in-github",
        "colab_type": "text"
      },
      "source": [
        "<a href=\"https://colab.research.google.com/github/Yezz1n/ESAA_NOV/blob/main/ESAA_16th.ipynb\" target=\"_parent\"><img src=\"https://colab.research.google.com/assets/colab-badge.svg\" alt=\"Open In Colab\"/></a>"
      ]
    },
    {
      "cell_type": "markdown",
      "source": [
        "> ## 규제 선형 모델-릿지, 라쏘, 엘라스틱넷\n",
        "\n",
        "다항 회귀에서 Degree가 1인 경우 지나치게 단순화해 데이터에 적합하지 않는 과소적합 모델이 만들어짐\n",
        "\n",
        "반대로, Degree 15d의 경우는 모든 데이터에 적합한 회귀식 만들기 위해 다항식 복잡해지고 회귀 계수가 매우 크게 설정이 되면서 평가 데이터 세트에 대해서 형편없는 예측 성능 보임\n",
        "\n",
        "<font color='blue'> 회귀 모델은 적절히 데이터에 적합하면서도 회귀 계수가 기하급수적으로 커지는 것을 제어할 수 있어야함\n",
        "\n",
        "\n",
        "### 비용함수= 학습 데이터의 잔차 오류 값 최소로하는 RSS 최소화 방법+과적합 방지 위한 회귀계수 크기 제어\n",
        "\n",
        "\n",
        "비용함수 목표=min(RSS(W)+alpha*||W||) <최소화 해야됨>\n",
        "\n",
        "- alpha= 학습 데이터 적합 정도와 회귀 계수 값의 크기 제어를 수행하는 튜닝 파라미터\n",
        "- alpha=0이라면 비용 함수 식은 기존과 동일한 Min(RSS(W)+0)\n",
        "- alpha 무한대라면 비용 함수 식은 RSS(W)에 비해 alpha*||W||값이 너무 커지게 되므로 W값을 0또는 매우 작게 만들어야 cost가 최소화되는 비용 함수 목표 달성\n",
        "\n",
        "=> alpha 값 크게 하면 비용 함수는 회귀 계수 W의 값을 작게 해 과적합을 개선할 수 있으며 alpha 값 작게 하면 회귀 계수 W의 값이 커져도 어느 정도 상쇄가 가능해 학습 데이터 적합을 더 개선할 수 있다\n",
        "\n",
        "\n",
        "- 규제: alpha를 0에서부터 지속적으로 값을 증가시키면 회귀 계수의 값의 크기르 감소시켜 과적합 개선\n",
        "  - L2 규제=릿지 회귀: W의 제곱에 대해 패널티 부여\n",
        "  - L1 규제=라쏘 회귀: W의 절댓값에 대해 패널티 부여\n",
        "   - L1 규제를 적용하면 영향력이 크지 않은 회귀 계수 값을 0으로 변환\n",
        "\n",
        "\n",
        "#### 릿지 회귀"
      ],
      "metadata": {
        "id": "85SzeAkqiQgt"
      }
    },
    {
      "cell_type": "code",
      "source": [
        "import numpy as np\n",
        "import matplotlib.pyplot as plt\n",
        "import pandas as pd\n",
        "import seaborn as sns\n",
        "from scipy import stats\n",
        "from sklearn.datasets import load_boston\n",
        "%matplotlib inline"
      ],
      "metadata": {
        "id": "LDZwGAhCoho6"
      },
      "execution_count": null,
      "outputs": []
    },
    {
      "cell_type": "code",
      "execution_count": null,
      "metadata": {
        "colab": {
          "base_uri": "https://localhost:8080/"
        },
        "id": "AbXNIJawhDX6",
        "outputId": "ab57f15d-6c13-4a87-f737-e4dabfdb9eeb"
      },
      "outputs": [
        {
          "output_type": "stream",
          "name": "stdout",
          "text": [
            "Boston 데이타셋 크기 :  (506, 14)\n",
            "5 folds의 개별 negative MSE scores: [-11.422 -24.294 -28.144 -74.599 -28.517]\n",
            "5 folds의 개별 RMSE scores: [3.38  4.929 5.305 8.637 5.34 ]\n",
            "5 folds의 평균 RMSE:\n"
          ]
        },
        {
          "output_type": "stream",
          "name": "stderr",
          "text": [
            "/usr/local/lib/python3.7/dist-packages/sklearn/utils/deprecation.py:87: FutureWarning: Function load_boston is deprecated; `load_boston` is deprecated in 1.0 and will be removed in 1.2.\n",
            "\n",
            "    The Boston housing prices dataset has an ethical problem. You can refer to\n",
            "    the documentation of this function for further details.\n",
            "\n",
            "    The scikit-learn maintainers therefore strongly discourage the use of this\n",
            "    dataset unless the purpose of the code is to study and educate about\n",
            "    ethical issues in data science and machine learning.\n",
            "\n",
            "    In this special case, you can fetch the dataset from the original\n",
            "    source::\n",
            "\n",
            "        import pandas as pd\n",
            "        import numpy as np\n",
            "\n",
            "\n",
            "        data_url = \"http://lib.stat.cmu.edu/datasets/boston\"\n",
            "        raw_df = pd.read_csv(data_url, sep=\"\\s+\", skiprows=22, header=None)\n",
            "        data = np.hstack([raw_df.values[::2, :], raw_df.values[1::2, :2]])\n",
            "        target = raw_df.values[1::2, 2]\n",
            "\n",
            "    Alternative datasets include the California housing dataset (i.e.\n",
            "    :func:`~sklearn.datasets.fetch_california_housing`) and the Ames housing\n",
            "    dataset. You can load the datasets as follows::\n",
            "\n",
            "        from sklearn.datasets import fetch_california_housing\n",
            "        housing = fetch_california_housing()\n",
            "\n",
            "    for the California housing dataset and::\n",
            "\n",
            "        from sklearn.datasets import fetch_openml\n",
            "        housing = fetch_openml(name=\"house_prices\", as_frame=True)\n",
            "\n",
            "    for the Ames housing dataset.\n",
            "    \n",
            "  warnings.warn(msg, category=FutureWarning)\n"
          ]
        }
      ],
      "source": [
        "#릿지 회귀\n",
        "from sklearn.linear_model import Ridge\n",
        "from sklearn.model_selection import cross_val_score\n",
        "\n",
        "# boston 데이터셋 로드\n",
        "boston = load_boston()\n",
        "\n",
        "# boston 데이터셋을 DataFrame으로 변환 \n",
        "bostonDF = pd.DataFrame(boston.data, columns = boston.feature_names)\n",
        "\n",
        "# boston dataset의 target array는 주택 가격 \n",
        "# PRICE Column으로 DataFrame에 추가\n",
        "bostonDF['PRICE'] = boston.target\n",
        "print('Boston 데이타셋 크기 : ', bostonDF.shape)\n",
        "\n",
        "# Target/Feature 데이터셋\n",
        "y_target = bostonDF['PRICE']\n",
        "X_data = bostonDF.drop(['PRICE'], axis = 1, inplace = False)\n",
        "\n",
        "#alpha=10으로 설정해 릿지 회귀 수행\n",
        "ridge=Ridge(alpha=10)\n",
        "neg_mse_scores=cross_val_score(ridge,X_data,y_target,scoring='neg_mean_squared_error',cv=5)\n",
        "rmse_scores=np.sqrt(-1*neg_mse_scores)\n",
        "avg_rmse=np.mean(rmse_scores)\n",
        "\n",
        "print('5 folds의 개별 negative MSE scores:',np.round(neg_mse_scores,3))\n",
        "print('5 folds의 개별 RMSE scores:',np.round(rmse_scores,3))\n",
        "print('5 folds의 평균 RMSE:'.format(avg_rmse))\n"
      ]
    },
    {
      "cell_type": "code",
      "source": [
        "#릿지에 사용될 alpha 파라미터의 값을 정의\n",
        "alphas=[0,0.1,1,10,100]\n",
        "\n",
        "#alpha list값을 반복하면서 alpha에 따른 평균 rmse를 구함\n",
        "for alpha in alphas:\n",
        "  ridge=Ridge(alpha=alpha)\n",
        "\n",
        "  #cross_val_score를 이용해 5폴드의 평균 RMSE를 계산\n",
        "  neg_mse_scores=cross_val_score(ridge,X_data,y_target,scoring='neg_mean_squared_error',cv=5)\n",
        "  avg_rmse=np.mean(np.sqrt(-1*neg_mse_scores))\n",
        "  print('alpha {0}일 때 5 folds의 평균 RMSE:{1:.3f}'.format(alpha,avg_rmse))\n",
        "\n",
        "  #alpha=100일 때 가장 좋다"
      ],
      "metadata": {
        "colab": {
          "base_uri": "https://localhost:8080/"
        },
        "id": "lEwgVia4osLB",
        "outputId": "26a96849-1387-4d62-b7b9-dd581e8a3cc8"
      },
      "execution_count": null,
      "outputs": [
        {
          "output_type": "stream",
          "name": "stdout",
          "text": [
            "alpha 0일 때 5 folds의 평균 RMSE:5.829\n",
            "alpha 0.1일 때 5 folds의 평균 RMSE:5.788\n",
            "alpha 1일 때 5 folds의 평균 RMSE:5.653\n",
            "alpha 10일 때 5 folds의 평균 RMSE:5.518\n",
            "alpha 100일 때 5 folds의 평균 RMSE:5.330\n"
          ]
        }
      ]
    },
    {
      "cell_type": "code",
      "source": [
        "#알파값 변화에 따른 피처의 회귀 계수 값을 가로 막대 그래프로 시각화\n",
        "#5개의 열로 된 맷플롯립 축 생성\n",
        "fig,axs=plt.subplots(figsize=(18,6),nrows=1,ncols=5)\n",
        "#각 alpha에 따른 회귀 계수 값을 데이터로 저장하기 위한 DataFrame 생성\n",
        "coeff_df=pd.DataFrame()\n",
        "\n",
        "#alphas 리스트 값을 차례로 입력해 회귀 계수 값 시각화 및 데이터 저장. pos는 axis의 위치 지정\n",
        "for pos,alpha in enumerate(alphas):\n",
        "  ridge=Ridge(alpha=alpha)\n",
        "  ridge.fit(X_data,y_target)\n",
        "  #alpha에 따른 피처별로 회귀 계수를 Series로 변환하고 이를 DataFrmae의 칼럼으로 추가\n",
        "  coeff=pd.Series(data=ridge.coef_,index=X_data.columns)\n",
        "  colname='alpha:'+str(alpha)\n",
        "  coeff_df[colname]=coeff\n",
        "  #막대 그래프로 각 alpha 값에서의 회귀 계수를 시각화. 회귀 계수 값이 높은 순으로 표현\n",
        "  coeff=coeff.sort_values(ascending=False)\n",
        "  axs[pos].set_title(colname)\n",
        "  axs[pos].set_xlim(-3,6)\n",
        "  sns.barplot(x=coeff.values,y=coeff.index,ax=axs[pos])\n",
        "\n",
        "plt.show()\n",
        "\n",
        "#alpha값 증가시킬수록 회귀 계수 값 지속적으로 작아짐"
      ],
      "metadata": {
        "colab": {
          "base_uri": "https://localhost:8080/",
          "height": 390
        },
        "id": "1B6eh__8pfE1",
        "outputId": "80cbfcec-0557-4f4c-fbb9-4cd771d9a8c9"
      },
      "execution_count": null,
      "outputs": [
        {
          "output_type": "display_data",
          "data": {
            "text/plain": [
              "<Figure size 1296x432 with 5 Axes>"
            ],
            "image/png": "[encoded data removed]"
          },
          "metadata": {
            "needs_background": "light"
          }
        }
      ]
    },
    {
      "cell_type": "code",
      "source": [
        "#DataFrame에 저장된 alpha값의 변화에 따른 릿지 회귀 계수 값을 구해보기\n",
        "ridge_alphas=[0,0.1,1,10,100]\n",
        "sort_column='alpha:'+str(ridge_alphas[0])\n",
        "coeff_df.sort_values(by=sort_column,ascending=False)\n",
        "#알파값 증가하면서 회귀계수가 지속적으로 작아지고 있지만, 릿지 회귀의 경우에는 회귀 계수를 0으로 만들지는 않음\n"
      ],
      "metadata": {
        "colab": {
          "base_uri": "https://localhost:8080/",
          "height": 457
        },
        "id": "Q99-ljSoqyLo",
        "outputId": "3bb01599-d228-46b6-b1d3-34dab1976cbe"
      },
      "execution_count": null,
      "outputs": [
        {
          "output_type": "execute_result",
          "data": {
            "text/plain": [
              "           alpha:0  alpha:0.1    alpha:1  alpha:10  alpha:100\n",
              "RM        3.809865   3.818233   3.854000  3.702272   2.334536\n",
              "CHAS      2.686734   2.670019   2.552393  1.952021   0.638335\n",
              "RAD       0.306049   0.303515   0.290142  0.279596   0.315358\n",
              "ZN        0.046420   0.046572   0.047443  0.049579   0.054496\n",
              "INDUS     0.020559   0.015999  -0.008805 -0.042962  -0.052826\n",
              "B         0.009312   0.009368   0.009673  0.010037   0.009393\n",
              "AGE       0.000692  -0.000269  -0.005415 -0.010707   0.001212\n",
              "TAX      -0.012335  -0.012421  -0.012912 -0.013993  -0.015856\n",
              "CRIM     -0.108011  -0.107474  -0.104595 -0.101435  -0.102202\n",
              "LSTAT    -0.524758  -0.525966  -0.533343 -0.559366  -0.660764\n",
              "PTRATIO  -0.952747  -0.940759  -0.876074 -0.797945  -0.829218\n",
              "DIS      -1.475567  -1.459626  -1.372654 -1.248808  -1.153390\n",
              "NOX     -17.766611 -16.684645 -10.777015 -2.371619  -0.262847"
            ],
            "text/html": [
              "\n",
              "  <div id=\"df-c75255ba-7ed5-437b-817d-475510e51cb6\">\n",
              "    <div class=\"colab-df-container\">\n",
              "      <div>\n",
              "<style scoped>\n",
              "    .dataframe tbody tr th:only-of-type {\n",
              "        vertical-align: middle;\n",
              "    }\n",
              "\n",
              "    .dataframe tbody tr th {\n",
              "        vertical-align: top;\n",
              "    }\n",
              "\n",
              "    .dataframe thead th {\n",
              "        text-align: right;\n",
              "    }\n",
              "</style>\n",
              "<table border=\"1\" class=\"dataframe\">\n",
              "  <thead>\n",
              "    <tr style=\"text-align: right;\">\n",
              "      <th></th>\n",
              "      <th>alpha:0</th>\n",
              "      <th>alpha:0.1</th>\n",
              "      <th>alpha:1</th>\n",
              "      <th>alpha:10</th>\n",
              "      <th>alpha:100</th>\n",
              "    </tr>\n",
              "  </thead>\n",
              "  <tbody>\n",
              "    <tr>\n",
              "      <th>RM</th>\n",
              "      <td>3.809865</td>\n",
              "      <td>3.818233</td>\n",
              "      <td>3.854000</td>\n",
              "      <td>3.702272</td>\n",
              "      <td>2.334536</td>\n",
              "    </tr>\n",
              "    <tr>\n",
              "      <th>CHAS</th>\n",
              "      <td>2.686734</td>\n",
              "      <td>2.670019</td>\n",
              "      <td>2.552393</td>\n",
              "      <td>1.952021</td>\n",
              "      <td>0.638335</td>\n",
              "    </tr>\n",
              "    <tr>\n",
              "      <th>RAD</th>\n",
              "      <td>0.306049</td>\n",
              "      <td>0.303515</td>\n",
              "      <td>0.290142</td>\n",
              "      <td>0.279596</td>\n",
              "      <td>0.315358</td>\n",
              "    </tr>\n",
              "    <tr>\n",
              "      <th>ZN</th>\n",
              "      <td>0.046420</td>\n",
              "      <td>0.046572</td>\n",
              "      <td>0.047443</td>\n",
              "      <td>0.049579</td>\n",
              "      <td>0.054496</td>\n",
              "    </tr>\n",
              "    <tr>\n",
              "      <th>INDUS</th>\n",
              "      <td>0.020559</td>\n",
              "      <td>0.015999</td>\n",
              "      <td>-0.008805</td>\n",
              "      <td>-0.042962</td>\n",
              "      <td>-0.052826</td>\n",
              "    </tr>\n",
              "    <tr>\n",
              "      <th>B</th>\n",
              "      <td>0.009312</td>\n",
              "      <td>0.009368</td>\n",
              "      <td>0.009673</td>\n",
              "      <td>0.010037</td>\n",
              "      <td>0.009393</td>\n",
              "    </tr>\n",
              "    <tr>\n",
              "      <th>AGE</th>\n",
              "      <td>0.000692</td>\n",
              "      <td>-0.000269</td>\n",
              "      <td>-0.005415</td>\n",
              "      <td>-0.010707</td>\n",
              "      <td>0.001212</td>\n",
              "    </tr>\n",
              "    <tr>\n",
              "      <th>TAX</th>\n",
              "      <td>-0.012335</td>\n",
              "      <td>-0.012421</td>\n",
              "      <td>-0.012912</td>\n",
              "      <td>-0.013993</td>\n",
              "      <td>-0.015856</td>\n",
              "    </tr>\n",
              "    <tr>\n",
              "      <th>CRIM</th>\n",
              "      <td>-0.108011</td>\n",
              "      <td>-0.107474</td>\n",
              "      <td>-0.104595</td>\n",
              "      <td>-0.101435</td>\n",
              "      <td>-0.102202</td>\n",
              "    </tr>\n",
              "    <tr>\n",
              "      <th>LSTAT</th>\n",
              "      <td>-0.524758</td>\n",
              "      <td>-0.525966</td>\n",
              "      <td>-0.533343</td>\n",
              "      <td>-0.559366</td>\n",
              "      <td>-0.660764</td>\n",
              "    </tr>\n",
              "    <tr>\n",
              "      <th>PTRATIO</th>\n",
              "      <td>-0.952747</td>\n",
              "      <td>-0.940759</td>\n",
              "      <td>-0.876074</td>\n",
              "      <td>-0.797945</td>\n",
              "      <td>-0.829218</td>\n",
              "    </tr>\n",
              "    <tr>\n",
              "      <th>DIS</th>\n",
              "      <td>-1.475567</td>\n",
              "      <td>-1.459626</td>\n",
              "      <td>-1.372654</td>\n",
              "      <td>-1.248808</td>\n",
              "      <td>-1.153390</td>\n",
              "    </tr>\n",
              "    <tr>\n",
              "      <th>NOX</th>\n",
              "      <td>-17.766611</td>\n",
              "      <td>-16.684645</td>\n",
              "      <td>-10.777015</td>\n",
              "      <td>-2.371619</td>\n",
              "      <td>-0.262847</td>\n",
              "    </tr>\n",
              "  </tbody>\n",
              "</table>\n",
              "</div>\n",
              "      <button class=\"colab-df-convert\" onclick=\"convertToInteractive('df-c75255ba-7ed5-437b-817d-475510e51cb6')\"\n",
              "              title=\"Convert this dataframe to an interactive table.\"\n",
              "              style=\"display:none;\">\n",
              "        \n",
              "  <svg xmlns=\"http://www.w3.org/2000/svg\" height=\"24px\"viewBox=\"0 0 24 24\"\n",
              "       width=\"24px\">\n",
              "    <path d=\"M0 0h24v24H0V0z\" fill=\"none\"/>\n",
              "    <path d=\"M18.56 5.44l.94 2.06.94-2.06 2.06-.94-2.06-.94-.94-2.06-.94 2.06-2.06.94zm-11 1L8.5 8.5l.94-2.06 2.06-.94-2.06-.94L8.5 2.5l-.94 2.06-2.06.94zm10 10l.94 2.06.94-2.06 2.06-.94-2.06-.94-.94-2.06-.94 2.06-2.06.94z\"/><path d=\"M17.41 7.96l-1.37-1.37c-.4-.4-.92-.59-1.43-.59-.52 0-1.04.2-1.43.59L10.3 9.45l-7.72 7.72c-.78.78-.78 2.05 0 2.83L4 21.41c.39.39.9.59 1.41.59.51 0 1.02-.2 1.41-.59l7.78-7.78 2.81-2.81c.8-.78.8-2.07 0-2.86zM5.41 20L4 18.59l7.72-7.72 1.47 1.35L5.41 20z\"/>\n",
              "  </svg>\n",
              "      </button>\n",
              "      \n",
              "  <style>\n",
              "    .colab-df-container {\n",
              "      display:flex;\n",
              "      flex-wrap:wrap;\n",
              "      gap: 12px;\n",
              "    }\n",
              "\n",
              "    .colab-df-convert {\n",
              "      background-color: #E8F0FE;\n",
              "      border: none;\n",
              "      border-radius: 50%;\n",
              "      cursor: pointer;\n",
              "      display: none;\n",
              "      fill: #1967D2;\n",
              "      height: 32px;\n",
              "      padding: 0 0 0 0;\n",
              "      width: 32px;\n",
              "    }\n",
              "\n",
              "    .colab-df-convert:hover {\n",
              "      background-color: #E2EBFA;\n",
              "      box-shadow: 0px 1px 2px rgba(60, 64, 67, 0.3), 0px 1px 3px 1px rgba(60, 64, 67, 0.15);\n",
              "      fill: #174EA6;\n",
              "    }\n",
              "\n",
              "    [theme=dark] .colab-df-convert {\n",
              "      background-color: #3B4455;\n",
              "      fill: #D2E3FC;\n",
              "    }\n",
              "\n",
              "    [theme=dark] .colab-df-convert:hover {\n",
              "      background-color: #434B5C;\n",
              "      box-shadow: 0px 1px 3px 1px rgba(0, 0, 0, 0.15);\n",
              "      filter: drop-shadow(0px 1px 2px rgba(0, 0, 0, 0.3));\n",
              "      fill: #FFFFFF;\n",
              "    }\n",
              "  </style>\n",
              "\n",
              "      <script>\n",
              "        const buttonEl =\n",
              "          document.querySelector('#df-c75255ba-7ed5-437b-817d-475510e51cb6 button.colab-df-convert');\n",
              "        buttonEl.style.display =\n",
              "          google.colab.kernel.accessAllowed ? 'block' : 'none';\n",
              "\n",
              "        async function convertToInteractive(key) {\n",
              "          const element = document.querySelector('#df-c75255ba-7ed5-437b-817d-475510e51cb6');\n",
              "          const dataTable =\n",
              "            await google.colab.kernel.invokeFunction('convertToInteractive',\n",
              "                                                     [key], {});\n",
              "          if (!dataTable) return;\n",
              "\n",
              "          const docLinkHtml = 'Like what you see? Visit the ' +\n",
              "            '<a target=\"_blank\" href=https://colab.research.google.com/notebooks/data_table.ipynb>data table notebook</a>'\n",
              "            + ' to learn more about interactive tables.';\n",
              "          element.innerHTML = '';\n",
              "          dataTable['output_type'] = 'display_data';\n",
              "          await google.colab.output.renderOutput(dataTable, element);\n",
              "          const docLink = document.createElement('div');\n",
              "          docLink.innerHTML = docLinkHtml;\n",
              "          element.appendChild(docLink);\n",
              "        }\n",
              "      </script>\n",
              "    </div>\n",
              "  </div>\n",
              "  "
            ]
          },
          "metadata": {},
          "execution_count": 5
        }
      ]
    },
    {
      "cell_type": "markdown",
      "source": [
        "> #### 라쏘 회귀"
      ],
      "metadata": {
        "id": "CPdM01lfrWCN"
      }
    },
    {
      "cell_type": "code",
      "source": [
        "from sklearn.linear_model import Lasso,ElasticNet\n",
        "\n",
        "#alpha 값에 따른 회귀 모델의 폴드 평균 RMSE를 출력하고 회귀 계수값들을 DataFrame으로 변환\n",
        "def get_linear_reg_eval(model_name, params=None, X_data_n=None, y_target_n=None, \n",
        "                        verbose=True, return_coeff=True):\n",
        "    coeff_df = pd.DataFrame()\n",
        "    if verbose : print('####### ', model_name , '#######')\n",
        "    for param in params:\n",
        "        if model_name =='Ridge': model = Ridge(alpha = param)\n",
        "        elif model_name =='Lasso': model = Lasso(alpha = param)\n",
        "        elif model_name =='ElasticNet': model = ElasticNet(alpha = param, l1_ratio = 0.7)\n",
        "        neg_mse_scores = cross_val_score(model, X_data_n, y_target_n, scoring = \"neg_mean_squared_error\", cv = 5)\n",
        "        avg_rmse = np.mean(np.sqrt(-1 * neg_mse_scores))\n",
        "        print('alpha {0}일 때 5 폴드 세트의 평균 RMSE : {1:.3f} '.format(param, avg_rmse))\n",
        "        # cross_val_score는 evaluation metric만 반환하므로 모델을 다시 학습하여 회귀 계수 추출\n",
        "        \n",
        "        model.fit(X_data_n , y_target_n)\n",
        "        if return_coeff:\n",
        "            # alpha에 따른 피처별 회귀 계수를 Series로 변환하고 이를 DataFrame의 컬럼으로 추가. \n",
        "            coeff = pd.Series(data = model.coef_ , index = X_data_n.columns )\n",
        "            colname ='alpha : ' + str(param)\n",
        "            coeff_df[colname] = coeff\n",
        "    \n",
        "    return coeff_df"
      ],
      "metadata": {
        "id": "Lb2OlAAmrVl-"
      },
      "execution_count": null,
      "outputs": []
    },
    {
      "cell_type": "code",
      "source": [
        "#라쏘에 사용될 알파 파라미터의 값을 정의하고 get_linear_reg_eval() 함수 호출\n",
        "lasso_alphas = [0.07, 0.1, 0.5, 1, 3]\n",
        "coeff_lasso_df = get_linear_reg_eval('Lasso', params = lasso_alphas, X_data_n = X_data, y_target_n = y_target)"
      ],
      "metadata": {
        "colab": {
          "base_uri": "https://localhost:8080/"
        },
        "id": "IgoGSPuus1Kn",
        "outputId": "b6f9e7e6-b2d7-498c-ce66-2d39a5f42a68"
      },
      "execution_count": null,
      "outputs": [
        {
          "output_type": "stream",
          "name": "stdout",
          "text": [
            "#######  Lasso #######\n",
            "alpha 0.07일 때 5 폴드 세트의 평균 RMSE : 5.612 \n",
            "alpha 0.1일 때 5 폴드 세트의 평균 RMSE : 5.615 \n",
            "alpha 0.5일 때 5 폴드 세트의 평균 RMSE : 5.669 \n",
            "alpha 1일 때 5 폴드 세트의 평균 RMSE : 5.776 \n",
            "alpha 3일 때 5 폴드 세트의 평균 RMSE : 6.189 \n"
          ]
        }
      ]
    },
    {
      "cell_type": "code",
      "source": [
        "#반환된 coeff_lasso_df를 첫번째 칼럼순으로 내림차순 정렬해 회귀계수 DataFrame 출력\n",
        "sort_column = 'alpha : ' + str(lasso_alphas[0])\n",
        "coeff_lasso_df.sort_values(by = sort_column, ascending = False)\n",
        "#알파의 크기가 증가함에 따라 일부 피처의 회귀 계수는 아예0으로 바뀌고 있음\n",
        "#NOX속성은 알파가 0.07일 때부터 회귀계수가 0이며 알파를 증가시키면서 INDUS,CHAS와 같은 속성의 회귀계수가 0으로 바뀜\n",
        "#회귀계수가 0인 피처는 회귀 식에서 제외되면서 피처 선택의 효과를 얻을 수 있다"
      ],
      "metadata": {
        "colab": {
          "base_uri": "https://localhost:8080/",
          "height": 457
        },
        "id": "clvPfV5nuIZL",
        "outputId": "5d56f19d-10af-4a23-ebc4-a780f6bb3332"
      },
      "execution_count": null,
      "outputs": [
        {
          "output_type": "execute_result",
          "data": {
            "text/plain": [
              "         alpha : 0.07  alpha : 0.1  alpha : 0.5  alpha : 1  alpha : 3\n",
              "RM           3.789725     3.703202     2.498212   0.949811   0.000000\n",
              "CHAS         1.434343     0.955190     0.000000   0.000000   0.000000\n",
              "RAD          0.270936     0.274707     0.277451   0.264206   0.061864\n",
              "ZN           0.049059     0.049211     0.049544   0.049165   0.037231\n",
              "B            0.010248     0.010249     0.009469   0.008247   0.006510\n",
              "NOX         -0.000000    -0.000000    -0.000000  -0.000000   0.000000\n",
              "AGE         -0.011706    -0.010037     0.003604   0.020910   0.042495\n",
              "TAX         -0.014290    -0.014570    -0.015442  -0.015212  -0.008602\n",
              "INDUS       -0.042120    -0.036619    -0.005253  -0.000000  -0.000000\n",
              "CRIM        -0.098193    -0.097894    -0.083289  -0.063437  -0.000000\n",
              "LSTAT       -0.560431    -0.568769    -0.656290  -0.761115  -0.807679\n",
              "PTRATIO     -0.765107    -0.770654    -0.758752  -0.722966  -0.265072\n",
              "DIS         -1.176583    -1.160538    -0.936605  -0.668790  -0.000000"
            ],
            "text/html": [
              "\n",
              "  <div id=\"df-730cc2fb-0b7d-48f4-9389-d7e3fad6450b\">\n",
              "    <div class=\"colab-df-container\">\n",
              "      <div>\n",
              "<style scoped>\n",
              "    .dataframe tbody tr th:only-of-type {\n",
              "        vertical-align: middle;\n",
              "    }\n",
              "\n",
              "    .dataframe tbody tr th {\n",
              "        vertical-align: top;\n",
              "    }\n",
              "\n",
              "    .dataframe thead th {\n",
              "        text-align: right;\n",
              "    }\n",
              "</style>\n",
              "<table border=\"1\" class=\"dataframe\">\n",
              "  <thead>\n",
              "    <tr style=\"text-align: right;\">\n",
              "      <th></th>\n",
              "      <th>alpha : 0.07</th>\n",
              "      <th>alpha : 0.1</th>\n",
              "      <th>alpha : 0.5</th>\n",
              "      <th>alpha : 1</th>\n",
              "      <th>alpha : 3</th>\n",
              "    </tr>\n",
              "  </thead>\n",
              "  <tbody>\n",
              "    <tr>\n",
              "      <th>RM</th>\n",
              "      <td>3.789725</td>\n",
              "      <td>3.703202</td>\n",
              "      <td>2.498212</td>\n",
              "      <td>0.949811</td>\n",
              "      <td>0.000000</td>\n",
              "    </tr>\n",
              "    <tr>\n",
              "      <th>CHAS</th>\n",
              "      <td>1.434343</td>\n",
              "      <td>0.955190</td>\n",
              "      <td>0.000000</td>\n",
              "      <td>0.000000</td>\n",
              "      <td>0.000000</td>\n",
              "    </tr>\n",
              "    <tr>\n",
              "      <th>RAD</th>\n",
              "      <td>0.270936</td>\n",
              "      <td>0.274707</td>\n",
              "      <td>0.277451</td>\n",
              "      <td>0.264206</td>\n",
              "      <td>0.061864</td>\n",
              "    </tr>\n",
              "    <tr>\n",
              "      <th>ZN</th>\n",
              "      <td>0.049059</td>\n",
              "      <td>0.049211</td>\n",
              "      <td>0.049544</td>\n",
              "      <td>0.049165</td>\n",
              "      <td>0.037231</td>\n",
              "    </tr>\n",
              "    <tr>\n",
              "      <th>B</th>\n",
              "      <td>0.010248</td>\n",
              "      <td>0.010249</td>\n",
              "      <td>0.009469</td>\n",
              "      <td>0.008247</td>\n",
              "      <td>0.006510</td>\n",
              "    </tr>\n",
              "    <tr>\n",
              "      <th>NOX</th>\n",
              "      <td>-0.000000</td>\n",
              "      <td>-0.000000</td>\n",
              "      <td>-0.000000</td>\n",
              "      <td>-0.000000</td>\n",
              "      <td>0.000000</td>\n",
              "    </tr>\n",
              "    <tr>\n",
              "      <th>AGE</th>\n",
              "      <td>-0.011706</td>\n",
              "      <td>-0.010037</td>\n",
              "      <td>0.003604</td>\n",
              "      <td>0.020910</td>\n",
              "      <td>0.042495</td>\n",
              "    </tr>\n",
              "    <tr>\n",
              "      <th>TAX</th>\n",
              "      <td>-0.014290</td>\n",
              "      <td>-0.014570</td>\n",
              "      <td>-0.015442</td>\n",
              "      <td>-0.015212</td>\n",
              "      <td>-0.008602</td>\n",
              "    </tr>\n",
              "    <tr>\n",
              "      <th>INDUS</th>\n",
              "      <td>-0.042120</td>\n",
              "      <td>-0.036619</td>\n",
              "      <td>-0.005253</td>\n",
              "      <td>-0.000000</td>\n",
              "      <td>-0.000000</td>\n",
              "    </tr>\n",
              "    <tr>\n",
              "      <th>CRIM</th>\n",
              "      <td>-0.098193</td>\n",
              "      <td>-0.097894</td>\n",
              "      <td>-0.083289</td>\n",
              "      <td>-0.063437</td>\n",
              "      <td>-0.000000</td>\n",
              "    </tr>\n",
              "    <tr>\n",
              "      <th>LSTAT</th>\n",
              "      <td>-0.560431</td>\n",
              "      <td>-0.568769</td>\n",
              "      <td>-0.656290</td>\n",
              "      <td>-0.761115</td>\n",
              "      <td>-0.807679</td>\n",
              "    </tr>\n",
              "    <tr>\n",
              "      <th>PTRATIO</th>\n",
              "      <td>-0.765107</td>\n",
              "      <td>-0.770654</td>\n",
              "      <td>-0.758752</td>\n",
              "      <td>-0.722966</td>\n",
              "      <td>-0.265072</td>\n",
              "    </tr>\n",
              "    <tr>\n",
              "      <th>DIS</th>\n",
              "      <td>-1.176583</td>\n",
              "      <td>-1.160538</td>\n",
              "      <td>-0.936605</td>\n",
              "      <td>-0.668790</td>\n",
              "      <td>-0.000000</td>\n",
              "    </tr>\n",
              "  </tbody>\n",
              "</table>\n",
              "</div>\n",
              "      <button class=\"colab-df-convert\" onclick=\"convertToInteractive('df-730cc2fb-0b7d-48f4-9389-d7e3fad6450b')\"\n",
              "              title=\"Convert this dataframe to an interactive table.\"\n",
              "              style=\"display:none;\">\n",
              "        \n",
              "  <svg xmlns=\"http://www.w3.org/2000/svg\" height=\"24px\"viewBox=\"0 0 24 24\"\n",
              "       width=\"24px\">\n",
              "    <path d=\"M0 0h24v24H0V0z\" fill=\"none\"/>\n",
              "    <path d=\"M18.56 5.44l.94 2.06.94-2.06 2.06-.94-2.06-.94-.94-2.06-.94 2.06-2.06.94zm-11 1L8.5 8.5l.94-2.06 2.06-.94-2.06-.94L8.5 2.5l-.94 2.06-2.06.94zm10 10l.94 2.06.94-2.06 2.06-.94-2.06-.94-.94-2.06-.94 2.06-2.06.94z\"/><path d=\"M17.41 7.96l-1.37-1.37c-.4-.4-.92-.59-1.43-.59-.52 0-1.04.2-1.43.59L10.3 9.45l-7.72 7.72c-.78.78-.78 2.05 0 2.83L4 21.41c.39.39.9.59 1.41.59.51 0 1.02-.2 1.41-.59l7.78-7.78 2.81-2.81c.8-.78.8-2.07 0-2.86zM5.41 20L4 18.59l7.72-7.72 1.47 1.35L5.41 20z\"/>\n",
              "  </svg>\n",
              "      </button>\n",
              "      \n",
              "  <style>\n",
              "    .colab-df-container {\n",
              "      display:flex;\n",
              "      flex-wrap:wrap;\n",
              "      gap: 12px;\n",
              "    }\n",
              "\n",
              "    .colab-df-convert {\n",
              "      background-color: #E8F0FE;\n",
              "      border: none;\n",
              "      border-radius: 50%;\n",
              "      cursor: pointer;\n",
              "      display: none;\n",
              "      fill: #1967D2;\n",
              "      height: 32px;\n",
              "      padding: 0 0 0 0;\n",
              "      width: 32px;\n",
              "    }\n",
              "\n",
              "    .colab-df-convert:hover {\n",
              "      background-color: #E2EBFA;\n",
              "      box-shadow: 0px 1px 2px rgba(60, 64, 67, 0.3), 0px 1px 3px 1px rgba(60, 64, 67, 0.15);\n",
              "      fill: #174EA6;\n",
              "    }\n",
              "\n",
              "    [theme=dark] .colab-df-convert {\n",
              "      background-color: #3B4455;\n",
              "      fill: #D2E3FC;\n",
              "    }\n",
              "\n",
              "    [theme=dark] .colab-df-convert:hover {\n",
              "      background-color: #434B5C;\n",
              "      box-shadow: 0px 1px 3px 1px rgba(0, 0, 0, 0.15);\n",
              "      filter: drop-shadow(0px 1px 2px rgba(0, 0, 0, 0.3));\n",
              "      fill: #FFFFFF;\n",
              "    }\n",
              "  </style>\n",
              "\n",
              "      <script>\n",
              "        const buttonEl =\n",
              "          document.querySelector('#df-730cc2fb-0b7d-48f4-9389-d7e3fad6450b button.colab-df-convert');\n",
              "        buttonEl.style.display =\n",
              "          google.colab.kernel.accessAllowed ? 'block' : 'none';\n",
              "\n",
              "        async function convertToInteractive(key) {\n",
              "          const element = document.querySelector('#df-730cc2fb-0b7d-48f4-9389-d7e3fad6450b');\n",
              "          const dataTable =\n",
              "            await google.colab.kernel.invokeFunction('convertToInteractive',\n",
              "                                                     [key], {});\n",
              "          if (!dataTable) return;\n",
              "\n",
              "          const docLinkHtml = 'Like what you see? Visit the ' +\n",
              "            '<a target=\"_blank\" href=https://colab.research.google.com/notebooks/data_table.ipynb>data table notebook</a>'\n",
              "            + ' to learn more about interactive tables.';\n",
              "          element.innerHTML = '';\n",
              "          dataTable['output_type'] = 'display_data';\n",
              "          await google.colab.output.renderOutput(dataTable, element);\n",
              "          const docLink = document.createElement('div');\n",
              "          docLink.innerHTML = docLinkHtml;\n",
              "          element.appendChild(docLink);\n",
              "        }\n",
              "      </script>\n",
              "    </div>\n",
              "  </div>\n",
              "  "
            ]
          },
          "metadata": {},
          "execution_count": 8
        }
      ]
    },
    {
      "cell_type": "markdown",
      "source": [
        "> #### 엘라스틱넷 회귀:L2 규제+L1 규제\n",
        "\n",
        "- 라쏘 회귀가 서로 상관관계가 높은 피처들의 경우, 이 중 중요 피처만을 셀렉션하고, 다른 피처들은 모두 회귀 계수를 모두 0으로 만드는 성향이 강함\n",
        "- alpha값에 따라 회귀 계수의 값이 급격히 변동할수도 있어 완화하고자 L2 규제를 추가\n",
        "- 단점:시간이 오래걸림\n",
        "\n",
        "\n",
        "\n",
        "```\n",
        "a*L1+b*L2\n",
        "```\n",
        "\n"
      ],
      "metadata": {
        "id": "5hUbsJZmmDoE"
      }
    },
    {
      "cell_type": "code",
      "source": [
        "#엘라스틱넷에 사용될 alpha 파라미터의 값들을  정의하고 get_linear_reg_eval() 함수 호출\n",
        "#ㅣ1_ratio는 0.7로 고정\n",
        "elastic_alphas=[0.07,0.1,0.5,1,3]\n",
        "coeff_elastic_df=get_linear_reg_eval('ElasticNet',params=elastic_alphas,X_data_n=X_data,y_target_n=y_target)"
      ],
      "metadata": {
        "colab": {
          "base_uri": "https://localhost:8080/"
        },
        "id": "iaoa09Kym8ef",
        "outputId": "59c4233d-1b06-44d8-8490-e2825dfce2a7"
      },
      "execution_count": null,
      "outputs": [
        {
          "output_type": "stream",
          "name": "stdout",
          "text": [
            "#######  ElasticNet #######\n",
            "alpha 0.07일 때 5 폴드 세트의 평균 RMSE : 5.542 \n",
            "alpha 0.1일 때 5 폴드 세트의 평균 RMSE : 5.526 \n",
            "alpha 0.5일 때 5 폴드 세트의 평균 RMSE : 5.467 \n",
            "alpha 1일 때 5 폴드 세트의 평균 RMSE : 5.597 \n",
            "alpha 3일 때 5 폴드 세트의 평균 RMSE : 6.068 \n"
          ]
        }
      ]
    },
    {
      "cell_type": "markdown",
      "source": [],
      "metadata": {
        "id": "Y2i6sf_TpTrC"
      }
    },
    {
      "cell_type": "code",
      "source": [
        "#반환된 coeff_elastic_df를 첫 번째 칼럼순으로 내림차순 정렬해 회귀계수 DataFrame 출력\n",
        "sort_column = 'alpha : ' + str(elastic_alphas[0])\n",
        "coeff_elastic_df.sort_values(by = sort_column, ascending = False)\n",
        "#알파가 0.5일 때 RMSE 최소로 가장 좋은 예측 성능\n",
        "#알파값에 따른 피처들의 회귀 계수들 값이 라쏘보다는 상대적으로 0이 되는 값이 적음\n",
        "#선형 회귀는 최적의 하이퍼 파라미터를 찾아내는 것 못지 않게 정규화와 인코딩 방법이 중요"
      ],
      "metadata": {
        "colab": {
          "base_uri": "https://localhost:8080/",
          "height": 457
        },
        "id": "p_LaMvWdnUzw",
        "outputId": "e26491f7-5c11-4f0b-90d6-012ea87f4c6b"
      },
      "execution_count": null,
      "outputs": [
        {
          "output_type": "execute_result",
          "data": {
            "text/plain": [
              "         alpha : 0.07  alpha : 0.1  alpha : 0.5  alpha : 1  alpha : 3\n",
              "RM           3.574162     3.414154     1.918419   0.938789   0.000000\n",
              "CHAS         1.330724     0.979706     0.000000   0.000000   0.000000\n",
              "RAD          0.278880     0.283443     0.300761   0.289299   0.146846\n",
              "ZN           0.050107     0.050617     0.052878   0.052136   0.038268\n",
              "B            0.010122     0.010067     0.009114   0.008320   0.007020\n",
              "AGE         -0.010116    -0.008276     0.007760   0.020348   0.043446\n",
              "TAX         -0.014522    -0.014814    -0.016046  -0.016218  -0.011417\n",
              "INDUS       -0.044855    -0.042719    -0.023252  -0.000000  -0.000000\n",
              "CRIM        -0.099468    -0.099213    -0.089070  -0.073577  -0.019058\n",
              "NOX         -0.175072    -0.000000    -0.000000  -0.000000  -0.000000\n",
              "LSTAT       -0.574822    -0.587702    -0.693861  -0.760457  -0.800368\n",
              "PTRATIO     -0.779498    -0.784725    -0.790969  -0.738672  -0.423065\n",
              "DIS         -1.189438    -1.173647    -0.975902  -0.725174  -0.031208"
            ],
            "text/html": [
              "\n",
              "  <div id=\"df-b420b223-6a56-4395-8f0f-72a417c00c88\">\n",
              "    <div class=\"colab-df-container\">\n",
              "      <div>\n",
              "<style scoped>\n",
              "    .dataframe tbody tr th:only-of-type {\n",
              "        vertical-align: middle;\n",
              "    }\n",
              "\n",
              "    .dataframe tbody tr th {\n",
              "        vertical-align: top;\n",
              "    }\n",
              "\n",
              "    .dataframe thead th {\n",
              "        text-align: right;\n",
              "    }\n",
              "</style>\n",
              "<table border=\"1\" class=\"dataframe\">\n",
              "  <thead>\n",
              "    <tr style=\"text-align: right;\">\n",
              "      <th></th>\n",
              "      <th>alpha : 0.07</th>\n",
              "      <th>alpha : 0.1</th>\n",
              "      <th>alpha : 0.5</th>\n",
              "      <th>alpha : 1</th>\n",
              "      <th>alpha : 3</th>\n",
              "    </tr>\n",
              "  </thead>\n",
              "  <tbody>\n",
              "    <tr>\n",
              "      <th>RM</th>\n",
              "      <td>3.574162</td>\n",
              "      <td>3.414154</td>\n",
              "      <td>1.918419</td>\n",
              "      <td>0.938789</td>\n",
              "      <td>0.000000</td>\n",
              "    </tr>\n",
              "    <tr>\n",
              "      <th>CHAS</th>\n",
              "      <td>1.330724</td>\n",
              "      <td>0.979706</td>\n",
              "      <td>0.000000</td>\n",
              "      <td>0.000000</td>\n",
              "      <td>0.000000</td>\n",
              "    </tr>\n",
              "    <tr>\n",
              "      <th>RAD</th>\n",
              "      <td>0.278880</td>\n",
              "      <td>0.283443</td>\n",
              "      <td>0.300761</td>\n",
              "      <td>0.289299</td>\n",
              "      <td>0.146846</td>\n",
              "    </tr>\n",
              "    <tr>\n",
              "      <th>ZN</th>\n",
              "      <td>0.050107</td>\n",
              "      <td>0.050617</td>\n",
              "      <td>0.052878</td>\n",
              "      <td>0.052136</td>\n",
              "      <td>0.038268</td>\n",
              "    </tr>\n",
              "    <tr>\n",
              "      <th>B</th>\n",
              "      <td>0.010122</td>\n",
              "      <td>0.010067</td>\n",
              "      <td>0.009114</td>\n",
              "      <td>0.008320</td>\n",
              "      <td>0.007020</td>\n",
              "    </tr>\n",
              "    <tr>\n",
              "      <th>AGE</th>\n",
              "      <td>-0.010116</td>\n",
              "      <td>-0.008276</td>\n",
              "      <td>0.007760</td>\n",
              "      <td>0.020348</td>\n",
              "      <td>0.043446</td>\n",
              "    </tr>\n",
              "    <tr>\n",
              "      <th>TAX</th>\n",
              "      <td>-0.014522</td>\n",
              "      <td>-0.014814</td>\n",
              "      <td>-0.016046</td>\n",
              "      <td>-0.016218</td>\n",
              "      <td>-0.011417</td>\n",
              "    </tr>\n",
              "    <tr>\n",
              "      <th>INDUS</th>\n",
              "      <td>-0.044855</td>\n",
              "      <td>-0.042719</td>\n",
              "      <td>-0.023252</td>\n",
              "      <td>-0.000000</td>\n",
              "      <td>-0.000000</td>\n",
              "    </tr>\n",
              "    <tr>\n",
              "      <th>CRIM</th>\n",
              "      <td>-0.099468</td>\n",
              "      <td>-0.099213</td>\n",
              "      <td>-0.089070</td>\n",
              "      <td>-0.073577</td>\n",
              "      <td>-0.019058</td>\n",
              "    </tr>\n",
              "    <tr>\n",
              "      <th>NOX</th>\n",
              "      <td>-0.175072</td>\n",
              "      <td>-0.000000</td>\n",
              "      <td>-0.000000</td>\n",
              "      <td>-0.000000</td>\n",
              "      <td>-0.000000</td>\n",
              "    </tr>\n",
              "    <tr>\n",
              "      <th>LSTAT</th>\n",
              "      <td>-0.574822</td>\n",
              "      <td>-0.587702</td>\n",
              "      <td>-0.693861</td>\n",
              "      <td>-0.760457</td>\n",
              "      <td>-0.800368</td>\n",
              "    </tr>\n",
              "    <tr>\n",
              "      <th>PTRATIO</th>\n",
              "      <td>-0.779498</td>\n",
              "      <td>-0.784725</td>\n",
              "      <td>-0.790969</td>\n",
              "      <td>-0.738672</td>\n",
              "      <td>-0.423065</td>\n",
              "    </tr>\n",
              "    <tr>\n",
              "      <th>DIS</th>\n",
              "      <td>-1.189438</td>\n",
              "      <td>-1.173647</td>\n",
              "      <td>-0.975902</td>\n",
              "      <td>-0.725174</td>\n",
              "      <td>-0.031208</td>\n",
              "    </tr>\n",
              "  </tbody>\n",
              "</table>\n",
              "</div>\n",
              "      <button class=\"colab-df-convert\" onclick=\"convertToInteractive('df-b420b223-6a56-4395-8f0f-72a417c00c88')\"\n",
              "              title=\"Convert this dataframe to an interactive table.\"\n",
              "              style=\"display:none;\">\n",
              "        \n",
              "  <svg xmlns=\"http://www.w3.org/2000/svg\" height=\"24px\"viewBox=\"0 0 24 24\"\n",
              "       width=\"24px\">\n",
              "    <path d=\"M0 0h24v24H0V0z\" fill=\"none\"/>\n",
              "    <path d=\"M18.56 5.44l.94 2.06.94-2.06 2.06-.94-2.06-.94-.94-2.06-.94 2.06-2.06.94zm-11 1L8.5 8.5l.94-2.06 2.06-.94-2.06-.94L8.5 2.5l-.94 2.06-2.06.94zm10 10l.94 2.06.94-2.06 2.06-.94-2.06-.94-.94-2.06-.94 2.06-2.06.94z\"/><path d=\"M17.41 7.96l-1.37-1.37c-.4-.4-.92-.59-1.43-.59-.52 0-1.04.2-1.43.59L10.3 9.45l-7.72 7.72c-.78.78-.78 2.05 0 2.83L4 21.41c.39.39.9.59 1.41.59.51 0 1.02-.2 1.41-.59l7.78-7.78 2.81-2.81c.8-.78.8-2.07 0-2.86zM5.41 20L4 18.59l7.72-7.72 1.47 1.35L5.41 20z\"/>\n",
              "  </svg>\n",
              "      </button>\n",
              "      \n",
              "  <style>\n",
              "    .colab-df-container {\n",
              "      display:flex;\n",
              "      flex-wrap:wrap;\n",
              "      gap: 12px;\n",
              "    }\n",
              "\n",
              "    .colab-df-convert {\n",
              "      background-color: #E8F0FE;\n",
              "      border: none;\n",
              "      border-radius: 50%;\n",
              "      cursor: pointer;\n",
              "      display: none;\n",
              "      fill: #1967D2;\n",
              "      height: 32px;\n",
              "      padding: 0 0 0 0;\n",
              "      width: 32px;\n",
              "    }\n",
              "\n",
              "    .colab-df-convert:hover {\n",
              "      background-color: #E2EBFA;\n",
              "      box-shadow: 0px 1px 2px rgba(60, 64, 67, 0.3), 0px 1px 3px 1px rgba(60, 64, 67, 0.15);\n",
              "      fill: #174EA6;\n",
              "    }\n",
              "\n",
              "    [theme=dark] .colab-df-convert {\n",
              "      background-color: #3B4455;\n",
              "      fill: #D2E3FC;\n",
              "    }\n",
              "\n",
              "    [theme=dark] .colab-df-convert:hover {\n",
              "      background-color: #434B5C;\n",
              "      box-shadow: 0px 1px 3px 1px rgba(0, 0, 0, 0.15);\n",
              "      filter: drop-shadow(0px 1px 2px rgba(0, 0, 0, 0.3));\n",
              "      fill: #FFFFFF;\n",
              "    }\n",
              "  </style>\n",
              "\n",
              "      <script>\n",
              "        const buttonEl =\n",
              "          document.querySelector('#df-b420b223-6a56-4395-8f0f-72a417c00c88 button.colab-df-convert');\n",
              "        buttonEl.style.display =\n",
              "          google.colab.kernel.accessAllowed ? 'block' : 'none';\n",
              "\n",
              "        async function convertToInteractive(key) {\n",
              "          const element = document.querySelector('#df-b420b223-6a56-4395-8f0f-72a417c00c88');\n",
              "          const dataTable =\n",
              "            await google.colab.kernel.invokeFunction('convertToInteractive',\n",
              "                                                     [key], {});\n",
              "          if (!dataTable) return;\n",
              "\n",
              "          const docLinkHtml = 'Like what you see? Visit the ' +\n",
              "            '<a target=\"_blank\" href=https://colab.research.google.com/notebooks/data_table.ipynb>data table notebook</a>'\n",
              "            + ' to learn more about interactive tables.';\n",
              "          element.innerHTML = '';\n",
              "          dataTable['output_type'] = 'display_data';\n",
              "          await google.colab.output.renderOutput(dataTable, element);\n",
              "          const docLink = document.createElement('div');\n",
              "          docLink.innerHTML = docLinkHtml;\n",
              "          element.appendChild(docLink);\n",
              "        }\n",
              "      </script>\n",
              "    </div>\n",
              "  </div>\n",
              "  "
            ]
          },
          "metadata": {},
          "execution_count": 10
        }
      ]
    },
    {
      "cell_type": "markdown",
      "source": [
        "> #### 선형 호귀 모델을 위한 데이터 변환\n",
        "\n",
        "- 중요 피처들이나 타킷값의 분포도가 심하게 왜곡됐을 경우 변환 작업 진행\n",
        "\n",
        "1. StandardScaler 클래스를 이용해 평균이 0, 분산이 1인 표준 정규 분포를 가진 데이터 세트로 변환하거나 MinMaxScaler 클래스를 이용해 최솟값이 0이고 최댓값이 1인 값으로 정규화 수행\n",
        "2. 스케일링/정규화를 수행한 데이터 세트에 다시 다항 특성을 적용하여 변환. 보통 1번 방법을 통해 예측 성능에 향상이 없을 경우 적용\n",
        "3. 원래 값에 log를 적용하여 보다 정규 분포에 가까운 형태로 값이 분포=로그 변환\n",
        " - 더 많이 이용됨. 1은 예측 성능 향상이 크게 되지 않음. 2은 피처의 개수가 많은 경우 다항 변환으로 생성되는 피처의 개수가 기하급수적으로 늘어나 과적합의 이슈 발생\n"
      ],
      "metadata": {
        "id": "7lMQgkJjofYd"
      }
    },
    {
      "cell_type": "code",
      "source": [
        "from sklearn.preprocessing import StandardScaler, MinMaxScaler, PolynomialFeatures\n",
        "\n",
        "#method는 표준 정규 분포 변환(Standard),최댓값/최솟값 정규화(MInMax),로그변환(log) 결정\n",
        "#p_degree는 다항식 특성을 추가할 때 적용, p_degree는 2이상 부여하지 않음\n",
        "def get_scaled_data(method='None',p_degree=None,input_data=None):\n",
        "  if method=='Standard':\n",
        "    scaled_data=StandardScaler().fit_transform(input_data)\n",
        "  elif method=='MinMax':\n",
        "    scaled_data=MinMaxScaler().fit_transform(input_data)\n",
        "  elif method=='Log':\n",
        "    scaled_data=np.log1p(input_data)\n",
        "  else: scaled_data=input_data\n",
        "\n",
        "  if p_degree!=None:\n",
        "    scaled_data=PolynomialFeatures(degree=p_degree,include_bias=False).fit_transform(scaled_data)\n",
        "  return scaled_data"
      ],
      "metadata": {
        "id": "na714FEDpSfq"
      },
      "execution_count": null,
      "outputs": []
    },
    {
      "cell_type": "code",
      "source": [
        "#Ridge의 알파값을 다르게 적용하고 다양한 데이터 변환 방법에 따른 RMSE 추출\n",
        "alphas=[0.1,1,10,100]\n",
        "#5개 방ㅇ식으로 변환. 먼저 원본 그대로, 표준정규 분포, 표준정규 분포+다항식 특성\n",
        "#최대/최소 정규화, 최대/최소 정규화+다항식 특성, 로그변환\n",
        "scale_methods=[(None,None),('Standard',None),('Standard',2),('MinMax',None),('MinMax',2),('Log',None)]\n",
        "for scale_method in scale_methods:\n",
        "  X_data_scaled=get_scaled_data(method=scale_method[0],p_degree=scale_method[1],input_data=X_data)\n",
        "  print('\\n## 변환 유형:{0},Polynomial Degree:{1}'.format(scale_method[0],scale_method[1]))\n",
        "  get_linear_reg_eval('Ridge', params = alphas, X_data_n = X_data_scaled, y_target_n = y_target, verbose = False, return_coeff = False)"
      ],
      "metadata": {
        "colab": {
          "base_uri": "https://localhost:8080/"
        },
        "id": "kc2g7zmwqWko",
        "outputId": "71e3faa0-2ba5-4394-cd8d-7a0185196bf9"
      },
      "execution_count": null,
      "outputs": [
        {
          "output_type": "stream",
          "name": "stdout",
          "text": [
            "\n",
            "## 변환 유형:None,Polynomial Degree:None\n",
            "alpha 0.1일 때 5 폴드 세트의 평균 RMSE : 5.788 \n",
            "alpha 1일 때 5 폴드 세트의 평균 RMSE : 5.653 \n",
            "alpha 10일 때 5 폴드 세트의 평균 RMSE : 5.518 \n",
            "alpha 100일 때 5 폴드 세트의 평균 RMSE : 5.330 \n",
            "\n",
            "## 변환 유형:Standard,Polynomial Degree:None\n",
            "alpha 0.1일 때 5 폴드 세트의 평균 RMSE : 5.826 \n",
            "alpha 1일 때 5 폴드 세트의 평균 RMSE : 5.803 \n",
            "alpha 10일 때 5 폴드 세트의 평균 RMSE : 5.637 \n",
            "alpha 100일 때 5 폴드 세트의 평균 RMSE : 5.421 \n",
            "\n",
            "## 변환 유형:Standard,Polynomial Degree:2\n",
            "alpha 0.1일 때 5 폴드 세트의 평균 RMSE : 8.827 \n",
            "alpha 1일 때 5 폴드 세트의 평균 RMSE : 6.871 \n",
            "alpha 10일 때 5 폴드 세트의 평균 RMSE : 5.485 \n",
            "alpha 100일 때 5 폴드 세트의 평균 RMSE : 4.634 \n",
            "\n",
            "## 변환 유형:MinMax,Polynomial Degree:None\n",
            "alpha 0.1일 때 5 폴드 세트의 평균 RMSE : 5.764 \n",
            "alpha 1일 때 5 폴드 세트의 평균 RMSE : 5.465 \n",
            "alpha 10일 때 5 폴드 세트의 평균 RMSE : 5.754 \n",
            "alpha 100일 때 5 폴드 세트의 평균 RMSE : 7.635 \n",
            "\n",
            "## 변환 유형:MinMax,Polynomial Degree:2\n",
            "alpha 0.1일 때 5 폴드 세트의 평균 RMSE : 5.298 \n",
            "alpha 1일 때 5 폴드 세트의 평균 RMSE : 4.323 \n",
            "alpha 10일 때 5 폴드 세트의 평균 RMSE : 5.185 \n",
            "alpha 100일 때 5 폴드 세트의 평균 RMSE : 6.538 \n",
            "\n",
            "## 변환 유형:Log,Polynomial Degree:None\n",
            "alpha 0.1일 때 5 폴드 세트의 평균 RMSE : 4.770 \n",
            "alpha 1일 때 5 폴드 세트의 평균 RMSE : 4.676 \n",
            "alpha 10일 때 5 폴드 세트의 평균 RMSE : 4.836 \n",
            "alpha 100일 때 5 폴드 세트의 평균 RMSE : 6.241 \n"
          ]
        }
      ]
    },
    {
      "cell_type": "markdown",
      "source": [
        "> #### 로지스틱 회귀: 선형 회귀 방식을 분류에 적용\n",
        "\n",
        "but, 선형 회귀 계열\n",
        "\n",
        "- 회귀가 선형인지 비선형인지는 독립변수가 아닌 가중치 변수가 선형인지 아닌지를 따름\n",
        "- 선형 회귀와 다른 점: 학습 통해 선형 함수의 회귀 최적선을 찾는 것이 아니라 시그모이드 함수 최적선을 찾고 시그모이드 함수의 반환 값을 확률로 간주에 확률에 따라 분류 결정\n",
        "- 시그모이드 함수(0~1)\n",
        "$$ \\frac{1}{1+e^-x} $$\n",
        " - 0과 1에 대한 분류를 할 수 있다.\n",
        "- 선형 회귀 방식을 기반으로 하되, 시그모이드 함수를 이용해 분류 수행"
      ],
      "metadata": {
        "id": "8iy_Z-5Yun67"
      }
    },
    {
      "cell_type": "code",
      "source": [
        "#로지스틱 회귀로 암 여부 판단\n",
        "import pandas as pd\n",
        "import matplotlib.pyplot as plt\n",
        "%matplotlib inline\n",
        "\n",
        "from sklearn.datasets import load_breast_cancer\n",
        "from sklearn.linear_model import LogisticRegression\n",
        "\n",
        "cancer=load_breast_cancer()\n",
        "\n"
      ],
      "metadata": {
        "id": "avR-7ojHulb4"
      },
      "execution_count": null,
      "outputs": []
    },
    {
      "cell_type": "code",
      "source": [
        "#학습 데이터 세트와 테스트 데이터 세트로 나눈 뒤, 로지스틱 회귀로 분류 수행\n",
        "#선형 회귀 계열 로지스틱 회귀는 데이터의 정규 분포도에 따라 예측 성능 영향 받을 수 있어 데이터에 먼저 정규 분포 형태의 표준 스케일링을 적요한 뒤에 세트 분리\n",
        "from sklearn.preprocessing import StandardScaler\n",
        "from sklearn.model_selection import train_test_split\n",
        "\n",
        "#StandardScaler() 로 평균이 0, 분산이 1로 데이터 분포도 변환\n",
        "scaler=StandardScaler()\n",
        "data_scaled=scaler.fit_transform(cancer.data)\n",
        "\n",
        "X_train,X_test,y_train,y_test=train_test_split(data_scaled,cancer.target,test_size=0.3,random_state=0)"
      ],
      "metadata": {
        "id": "q_Gta74mv1zD"
      },
      "execution_count": null,
      "outputs": []
    },
    {
      "cell_type": "code",
      "source": [
        "#로지스틱 회귀 이용해 학습 및 예측 수행\n",
        "from sklearn.metrics import accuracy_score,roc_auc_score\n",
        "\n",
        "lr_clf=LogisticRegression()\n",
        "lr_clf.fit(X_train,y_train)\n",
        "lr_preds=lr_clf.predict(X_test)\n",
        "\n",
        "#정확도와 roc_auc 측정\n",
        "print('accuaracy:{:0.3f}'.format(accuracy_score(y_test,lr_preds)))\n",
        "print('roc_auc:{:0.3f}'.format(roc_auc_score(y_test,lr_preds)))\n"
      ],
      "metadata": {
        "colab": {
          "base_uri": "https://localhost:8080/"
        },
        "id": "fOxxFQSUwiVp",
        "outputId": "726f4cc7-51dd-48a1-f6d3-c7ab9ea8249f"
      },
      "execution_count": null,
      "outputs": [
        {
          "output_type": "stream",
          "name": "stdout",
          "text": [
            "accuaracy:0.977\n",
            "roc_auc:0.972\n"
          ]
        }
      ]
    },
    {
      "cell_type": "code",
      "source": [
        "from sklearn.model_selection import GridSearchCV\n",
        "\n",
        "params={'penalty':['l2','l1'],\n",
        "       'C':[0.01,0.1,1,1,5,10]}\n",
        "grid_clf=GridSearchCV(lr_clf,param_grid=params,scoring='accuracy',cv=3)\n",
        "grid_clf.fit(data_scaled,cancer.target)\n",
        "print('최적 하이퍼 파라미터:{0},최적 평균 정확도:{1:.3f}'.format(grid_clf.best_params_,grid_clf.best_score_))"
      ],
      "metadata": {
        "colab": {
          "base_uri": "https://localhost:8080/"
        },
        "id": "oDZv3rIGxQfz",
        "outputId": "4c7f6bc3-678a-4455-d733-5dc84ac7c9af"
      },
      "execution_count": null,
      "outputs": [
        {
          "output_type": "stream",
          "name": "stdout",
          "text": [
            "최적 하이퍼 파라미터:{'C': 1, 'penalty': 'l2'},최적 평균 정확도:0.975\n"
          ]
        },
        {
          "output_type": "stream",
          "name": "stderr",
          "text": [
            "/usr/local/lib/python3.7/dist-packages/sklearn/model_selection/_validation.py:372: FitFailedWarning: \n",
            "18 fits failed out of a total of 36.\n",
            "The score on these train-test partitions for these parameters will be set to nan.\n",
            "If these failures are not expected, you can try to debug them by setting error_score='raise'.\n",
            "\n",
            "Below are more details about the failures:\n",
            "--------------------------------------------------------------------------------\n",
            "18 fits failed with the following error:\n",
            "Traceback (most recent call last):\n",
            "  File \"/usr/local/lib/python3.7/dist-packages/sklearn/model_selection/_validation.py\", line 680, in _fit_and_score\n",
            "    estimator.fit(X_train, y_train, **fit_params)\n",
            "  File \"/usr/local/lib/python3.7/dist-packages/sklearn/linear_model/_logistic.py\", line 1461, in fit\n",
            "    solver = _check_solver(self.solver, self.penalty, self.dual)\n",
            "  File \"/usr/local/lib/python3.7/dist-packages/sklearn/linear_model/_logistic.py\", line 449, in _check_solver\n",
            "    % (solver, penalty)\n",
            "ValueError: Solver lbfgs supports only 'l2' or 'none' penalties, got l1 penalty.\n",
            "\n",
            "  warnings.warn(some_fits_failed_message, FitFailedWarning)\n",
            "/usr/local/lib/python3.7/dist-packages/sklearn/model_selection/_search.py:972: UserWarning: One or more of the test scores are non-finite: [0.94555834        nan 0.97364708        nan 0.97539218        nan\n",
            " 0.97539218        nan 0.97011974        nan 0.96661097        nan]\n",
            "  category=UserWarning,\n"
          ]
        }
      ]
    },
    {
      "cell_type": "markdown",
      "source": [
        "> ### 회귀 트리\n",
        "\n",
        "- 선형 회귀: 회귀 계수를 선형으로 결합하는 회귀 함수를 구해, 여기에 독립변수를 입력해 결괏값을 예측\n",
        "- 비선형 회귀: 비선형 회귀 함수를 통해 결괏값을 예측\n",
        " - 회귀 계수의 결합이 비선형일 뿐\n",
        "- 머신러닝 기반의 회귀는 회귀 계수를 기반으로 하는 최적 함수를 도출하는 것이 목표\n",
        "\n",
        "- 트리기반의 회귀: 회귀 트리 이용\n",
        " - 리프노드에 속한 데이터 값의 평균값을 구해 회귀 예측값을 계산\n",
        " \n",
        "| 알고리즘  | 회귀 Estimator 클래스  | 분류 Estimator 클래스   |   |   |\n",
        "|---|---|---|---|---|\n",
        "| Decision Tree  | DecisionTreeRegressor   | DecisionTreeClassifier  |   |   |\n",
        "| Gradient Boosting  | GradientBoostingRegressor  |  GradientBoostingClassifier |\n",
        "| XGBoost| XGBRegressor  | XGBClassifier |   |   |\n",
        "| LightGBM| LGBMRegressor  | LGBMClassifier |   |   |"
      ],
      "metadata": {
        "id": "xE6uV0qzyc7v"
      }
    },
    {
      "cell_type": "code",
      "source": [
        "from sklearn.datasets import load_boston\n",
        "from sklearn.model_selection import cross_val_score\n",
        "from sklearn.ensemble import RandomForestRegressor\n",
        "import pandas as pd\n",
        "import numpy as np\n",
        "\n",
        "#보스톤 데이터 세트 로드\n",
        "boston=load_boston()\n",
        "bostonDF=pd.DataFrame(boston.data,columns=boston.feature_names)\n",
        "\n",
        "bostonDF['PRICE']=boston.target\n",
        "y_target=bostonDF['PRICE']\n",
        "X_data=bostonDF.drop(['PRICE'],axis=1,inplace=False)\n",
        "\n",
        "rf = RandomForestRegressor(random_state = 0, n_estimators = 1000)\n",
        "neg_mse_scores = cross_val_score(rf, X_data, y_target, scoring = \"neg_mean_squared_error\", cv = 5)\n",
        "rmse_scores  = np.sqrt(-1 * neg_mse_scores)\n",
        "avg_rmse = np.mean(rmse_scores)\n",
        "\n",
        "print(' 5 교차 검증의 개별 Negative MSE scores : ', np.round(neg_mse_scores, 2))\n",
        "print(' 5 교차 검증의 개별 RMSE scores : ', np.round(rmse_scores, 2))\n",
        "print(' 5 교차 검증의 평균 RMSE : {0:.3f} '.format(avg_rmse))"
      ],
      "metadata": {
        "id": "Dqxh5aSvyHdc",
        "colab": {
          "base_uri": "https://localhost:8080/"
        },
        "outputId": "23c67067-51cf-4908-8055-a1c1b562584f"
      },
      "execution_count": null,
      "outputs": [
        {
          "output_type": "stream",
          "name": "stderr",
          "text": [
            "/usr/local/lib/python3.7/dist-packages/sklearn/utils/deprecation.py:87: FutureWarning: Function load_boston is deprecated; `load_boston` is deprecated in 1.0 and will be removed in 1.2.\n",
            "\n",
            "    The Boston housing prices dataset has an ethical problem. You can refer to\n",
            "    the documentation of this function for further details.\n",
            "\n",
            "    The scikit-learn maintainers therefore strongly discourage the use of this\n",
            "    dataset unless the purpose of the code is to study and educate about\n",
            "    ethical issues in data science and machine learning.\n",
            "\n",
            "    In this special case, you can fetch the dataset from the original\n",
            "    source::\n",
            "\n",
            "        import pandas as pd\n",
            "        import numpy as np\n",
            "\n",
            "\n",
            "        data_url = \"http://lib.stat.cmu.edu/datasets/boston\"\n",
            "        raw_df = pd.read_csv(data_url, sep=\"\\s+\", skiprows=22, header=None)\n",
            "        data = np.hstack([raw_df.values[::2, :], raw_df.values[1::2, :2]])\n",
            "        target = raw_df.values[1::2, 2]\n",
            "\n",
            "    Alternative datasets include the California housing dataset (i.e.\n",
            "    :func:`~sklearn.datasets.fetch_california_housing`) and the Ames housing\n",
            "    dataset. You can load the datasets as follows::\n",
            "\n",
            "        from sklearn.datasets import fetch_california_housing\n",
            "        housing = fetch_california_housing()\n",
            "\n",
            "    for the California housing dataset and::\n",
            "\n",
            "        from sklearn.datasets import fetch_openml\n",
            "        housing = fetch_openml(name=\"house_prices\", as_frame=True)\n",
            "\n",
            "    for the Ames housing dataset.\n",
            "    \n",
            "  warnings.warn(msg, category=FutureWarning)\n"
          ]
        },
        {
          "output_type": "stream",
          "name": "stdout",
          "text": [
            " 5 교차 검증의 개별 Negative MSE scores :  [ -7.88 -13.14 -20.57 -46.23 -18.88]\n",
            " 5 교차 검증의 개별 RMSE scores :  [2.81 3.63 4.54 6.8  4.34]\n",
            " 5 교차 검증의 평균 RMSE : 4.423 \n"
          ]
        }
      ]
    },
    {
      "cell_type": "code",
      "source": [
        "def get_model_cv_prediction(model, X_data, y_target):\n",
        "    neg_mse_scores = cross_val_score(model, X_data, y_target, scoring = \"neg_mean_squared_error\", cv = 5)\n",
        "    rmse_scores  = np.sqrt(-1 * neg_mse_scores)\n",
        "    avg_rmse = np.mean(rmse_scores)\n",
        "\n",
        "    print('##### ', model.__class__.__name__ , ' #####')\n",
        "    print(' 5 교차 검증의 평균 RMSE : {0:.3f} '.format(avg_rmse))"
      ],
      "metadata": {
        "id": "DLgjNIQs3MWq"
      },
      "execution_count": null,
      "outputs": []
    },
    {
      "cell_type": "code",
      "source": [
        "from sklearn.tree import DecisionTreeRegressor\n",
        "from sklearn.ensemble import GradientBoostingRegressor\n",
        "from xgboost import XGBRegressor\n",
        "from lightgbm import LGBMRegressor\n",
        "\n",
        "dt_reg=DecisionTreeRegressor(random_state=0,max_depth=4)\n",
        "rf_reg=RandomForestRegressor(random_state=0,n_estimators=1000)\n",
        "gb_reg=GradientBoostingRegressor(random_state=0,n_estimators=1000)\n",
        "xgb_reg=XGBRegressor(n_estimators=1000)\n",
        "lgb_reg=LGBMRegressor(n_estimators=1000)\n",
        "\n",
        "#트리 기반의 회귀 모델을 반복하면서 평가 수행\n",
        "models = [dt_reg, rf_reg, gb_reg, xgb_reg, lgb_reg]\n",
        "\n",
        "for model in models:  \n",
        "    get_model_cv_prediction(model, X_data, y_target)"
      ],
      "metadata": {
        "colab": {
          "base_uri": "https://localhost:8080/"
        },
        "id": "D0878LAj3qQK",
        "outputId": "f6e2e6a9-9ca2-4588-b9aa-e0fc0937bc2f"
      },
      "execution_count": null,
      "outputs": [
        {
          "output_type": "stream",
          "name": "stdout",
          "text": [
            "#####  DecisionTreeRegressor  #####\n",
            " 5 교차 검증의 평균 RMSE : 5.978 \n",
            "#####  RandomForestRegressor  #####\n",
            " 5 교차 검증의 평균 RMSE : 4.423 \n",
            "#####  GradientBoostingRegressor  #####\n",
            " 5 교차 검증의 평균 RMSE : 4.269 \n",
            "[13:53:46] WARNING: /workspace/src/objective/regression_obj.cu:152: reg:linear is now deprecated in favor of reg:squarederror.\n",
            "[13:53:47] WARNING: /workspace/src/objective/regression_obj.cu:152: reg:linear is now deprecated in favor of reg:squarederror.\n",
            "[13:53:47] WARNING: /workspace/src/objective/regression_obj.cu:152: reg:linear is now deprecated in favor of reg:squarederror.\n",
            "[13:53:48] WARNING: /workspace/src/objective/regression_obj.cu:152: reg:linear is now deprecated in favor of reg:squarederror.\n",
            "[13:53:48] WARNING: /workspace/src/objective/regression_obj.cu:152: reg:linear is now deprecated in favor of reg:squarederror.\n",
            "#####  XGBRegressor  #####\n",
            " 5 교차 검증의 평균 RMSE : 4.089 \n",
            "#####  LGBMRegressor  #####\n",
            " 5 교차 검증의 평균 RMSE : 4.646 \n"
          ]
        }
      ]
    },
    {
      "cell_type": "code",
      "source": [
        "#피처별 중요도 시각화\n",
        "import seaborn as sns\n",
        "%matplotlib inline\n",
        "rf_reg=RandomForestRegressor(n_estimators=1000)\n",
        "\n",
        "#앞 예제에서 만들어진 X_data,y_target 데이터 세트를 적용해 학습\n",
        "rf_reg.fit(X_data,y_target)\n",
        "\n",
        "feature_series=pd.Series(data=rf_reg.feature_importances_,index=X_data.columns)\n",
        "feature_series=feature_series.sort_values(ascending=False)\n",
        "sns.barplot(x=feature_series,y=feature_series.index)"
      ],
      "metadata": {
        "colab": {
          "base_uri": "https://localhost:8080/",
          "height": 283
        },
        "id": "z3NbymkM5FA_",
        "outputId": "f1175271-056c-40f8-90d5-988314ba8711"
      },
      "execution_count": null,
      "outputs": [
        {
          "output_type": "execute_result",
          "data": {
            "text/plain": [
              "<matplotlib.axes._subplots.AxesSubplot at 0x7f56f79964d0>"
            ]
          },
          "metadata": {},
          "execution_count": 20
        },
        {
          "output_type": "display_data",
          "data": {
            "text/plain": [
              "<Figure size 432x288 with 1 Axes>"
            ],
            "image/png": "[encoded data removed]"
          },
          "metadata": {
            "needs_background": "light"
          }
        }
      ]
    },
    {
      "cell_type": "code",
      "source": [
        "#회귀 트리 regressor이 예측 어떻게 판단하는지 선형 회귀와 비교\n",
        "bostonDF_sample = bostonDF[['RM','PRICE']]\n",
        "bostonDF_sample = bostonDF_sample.sample( n =100, random_state = 0)\n",
        "print(bostonDF_sample.shape)\n",
        "plt.figure()\n",
        "plt.scatter(bostonDF_sample.RM, bostonDF_sample.PRICE, c = \"darkorange\")"
      ],
      "metadata": {
        "colab": {
          "base_uri": "https://localhost:8080/",
          "height": 302
        },
        "id": "WPg5K0Yz5u0r",
        "outputId": "acfb192a-1bbc-4644-d538-6fbdea1e59c2"
      },
      "execution_count": null,
      "outputs": [
        {
          "output_type": "stream",
          "name": "stdout",
          "text": [
            "(100, 2)\n"
          ]
        },
        {
          "output_type": "execute_result",
          "data": {
            "text/plain": [
              "<matplotlib.collections.PathCollection at 0x7f56f7895310>"
            ]
          },
          "metadata": {},
          "execution_count": 21
        },
        {
          "output_type": "display_data",
          "data": {
            "text/plain": [
              "<Figure size 432x288 with 1 Axes>"
            ],
            "image/png": "[encoded data removed]"
          },
          "metadata": {
            "needs_background": "light"
          }
        }
      ]
    },
    {
      "cell_type": "code",
      "source": [
        "import numpy as np\n",
        "from sklearn.linear_model import LinearRegression\n",
        "#선형 회귀와 결정 트리 기반의 Regressor 형성.DecisionTreeRegressor의 max_depth 각각 2,7\n",
        "lr_reg=LinearRegression()\n",
        "rf_reg2=DecisionTreeRegressor(max_depth=2)\n",
        "rf_reg7=DecisionTreeRegressor(max_depth=7)\n",
        "\n",
        "#실제 예측을 적용할 테스트용 데이터 세트를 4.5~8.5까지의 100개 데이터 세트로 생성\n",
        "X_test=np.arange(4.5,8.5,0.04).reshape(-1,1)\n",
        "\n",
        "#보스턴 주택 가격 데이터에서 시각화를 위해 피처는 RM만, 그리고 결정 데이터인 PRICE 추출\n",
        "X_feature=bostonDF_sample['RM'].values.reshape(-1,1)\n",
        "y_target=bostonDF_sample['PRICE'].values.reshape(-1,1)\n",
        "\n",
        "#학습과 예측 수행\n",
        "lr_reg.fit(X_feature,y_target)\n",
        "rf_reg2.fit(X_feature,y_target)\n",
        "rf_reg7.fit(X_feature,y_target)\n",
        "\n",
        "pred_lr=lr_reg.predict(X_test)\n",
        "pred_rf2=rf_reg2.predict(X_test)\n",
        "pred_rf7=rf_reg7.predict(X_test)\n",
        "\n"
      ],
      "metadata": {
        "id": "bFhpZEFk6SsD"
      },
      "execution_count": null,
      "outputs": []
    },
    {
      "cell_type": "code",
      "source": [
        "#회귀선 그리기\n",
        "fig,(ax1,ax2,ax3)=plt.subplots(figsize=(14,4),ncols=3)\n",
        "\n",
        "#X축 값을 4.5~8.5로 변환하며 입력했을 때 선형 회귀와 결정 트리 회귀 예측선 시각화\n",
        "#선형 회귀로 학습된 모델 회귀 예측산\n",
        "ax1.set_title('Linear Regression')\n",
        "ax1.scatter(bostonDF_sample.RM,bostonDF_sample.PRICE,c='darkorange')\n",
        "ax1.plot(X_test,pred_lr,label='linear',linewidth=2)\n",
        "\n",
        "#DecisionTreeRegressor의 max_depth를 2로 했을 때 회귀 예측선\n",
        "ax2.set_title('Decision Tree Regression:\\n max_depth=2')\n",
        "ax2.scatter(bostonDF_sample.RM,bostonDF_sample.PRICE,c='darkorange')\n",
        "ax2.plot(X_test,pred_rf2,label='max_depth:3',linewidth=2)\n",
        "\n",
        "#DecisionTreeRegressor의 max_depth를 7로 했을 때 회귀 예측선\n",
        "ax3.set_title('Decision Tree Regression:\\n max_depth=7')\n",
        "ax3.scatter(bostonDF_sample.RM,bostonDF_sample.PRICE,c='darkorange')\n",
        "ax3.plot(X_test,pred_rf7,label='max_depth:7',linewidth=2)\n",
        "\n",
        "#선형 회귀는 직선으로 예측 회귀선을 표현하는데 반해 회귀 트리의 경우 분할되는 데이터 지점에 따라 브랜치를 만들며 계단 형태로 회귀선 만ㄷ름\n",
        "#max_depth=7인 경우에는 학습 데이터 세트의 이상치 데이터도 학습하면서 복잡한 계단 형태의 회귀선을 마들어 과적합이 되기 쉬운 모델이 됨"
      ],
      "metadata": {
        "colab": {
          "base_uri": "https://localhost:8080/",
          "height": 314
        },
        "id": "kOdYT5TDf_IG",
        "outputId": "f526e175-c431-40cf-ce7a-90deb7f89d0e"
      },
      "execution_count": null,
      "outputs": [
        {
          "output_type": "execute_result",
          "data": {
            "text/plain": [
              "[<matplotlib.lines.Line2D at 0x7f56f3afa410>]"
            ]
          },
          "metadata": {},
          "execution_count": 26
        },
        {
          "output_type": "display_data",
          "data": {
            "text/plain": [
              "<Figure size 1008x288 with 3 Axes>"
            ],
            "image/png": "[encoded data removed]"
          },
          "metadata": {
            "needs_background": "light"
          }
        }
      ]
    }
  ]
}